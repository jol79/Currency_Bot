{
 "metadata": {
  "language_info": {
   "codemirror_mode": {
    "name": "ipython",
    "version": 3
   },
   "file_extension": ".py",
   "mimetype": "text/x-python",
   "name": "python",
   "nbconvert_exporter": "python",
   "pygments_lexer": "ipython3",
   "version": "3.7.9-final"
  },
  "orig_nbformat": 2,
  "kernelspec": {
   "name": "python3",
   "display_name": "Python 3.7.9 64-bit",
   "metadata": {
    "interpreter": {
     "hash": "7e35605e198d829a1143d9e7784e47b9c352f25b3e46d6f146d7c93ed12f7936"
    }
   }
  }
 },
 "nbformat": 4,
 "nbformat_minor": 2,
 "cells": [
  {
   "cell_type": "code",
   "execution_count": 13,
   "metadata": {},
   "outputs": [],
   "source": [
    "import requests\n",
    "import pprint"
   ]
  },
  {
   "cell_type": "code",
   "execution_count": null,
   "metadata": {},
   "outputs": [],
   "source": [
    "\"\"\"\n",
    "To get the list of the latest foreign exchange rates\n",
    "GET /latest\n",
    "GET /latest?symbols=USD,GBP\n",
    "\"\"\""
   ]
  },
  {
   "cell_type": "code",
   "execution_count": 1,
   "metadata": {},
   "outputs": [],
   "source": [
    "base_url = 'https://api.exchangeratesapi.io/'"
   ]
  },
  {
   "cell_type": "code",
   "execution_count": 3,
   "metadata": {},
   "outputs": [],
   "source": [
    "end_path_latest = 'latest'"
   ]
  },
  {
   "cell_type": "code",
   "execution_count": 5,
   "metadata": {},
   "outputs": [],
   "source": [
    "\"\"\"\n",
    "exchange USD,CAD\n",
    "\"\"\"\n",
    "end_path_exchange = '/latest?symbols=USD,CAD'"
   ]
  },
  {
   "cell_type": "code",
   "execution_count": 6,
   "metadata": {},
   "outputs": [],
   "source": [
    "end_point = f'{base_url}{end_path_latest}'"
   ]
  },
  {
   "cell_type": "code",
   "execution_count": 8,
   "metadata": {},
   "outputs": [],
   "source": [
    "result = requests.get(end_point)"
   ]
  },
  {
   "cell_type": "code",
   "execution_count": 14,
   "metadata": {},
   "outputs": [
    {
     "output_type": "stream",
     "name": "stdout",
     "text": [
      "'{\"rates\":{\"CAD\":1.5257,\"HKD\":9.4793,\"ISK\":153.3,\"PHP\":59.492,\"DKK\":7.4363,\"HUF\":360.18,\"CZK\":26.11,\"AUD\":1.5317,\"RON\":4.8748,\"SEK\":10.0668,\"IDR\":17352.1,\"INR\":88.794,\"BRL\":6.6663,\"RUB\":90.3519,\"HRK\":7.5895,\"JPY\":129.73,\"THB\":36.858,\"CHF\":1.1076,\"SGD\":1.612,\"PLN\":4.5122,\"BGN\":1.9558,\"TRY\":8.8344,\"CNY\":7.8898,\"NOK\":10.2275,\"NZD\":1.6409,\"ZAR\":18.1101,\"USD\":1.2225,\"MXN\":25.3424,\"ILS\":4.0086,\"GBP\":0.86408,\"KRW\":1359.14,\"MYR\":4.9383},\"base\":\"EUR\",\"date\":\"2021-02-25\"}'\n"
     ]
    }
   ],
   "source": [
    "\"\"\"\n",
    "the latest exchange rates\n",
    "\"\"\"\n",
    "# print(result.status_code)\n",
    "# print(result.json())\n",
    "pprint.pprint(result.text)"
   ]
  },
  {
   "cell_type": "code",
   "execution_count": 55,
   "metadata": {},
   "outputs": [],
   "source": [
    "currency = []\n",
    "exchange_rate = []"
   ]
  },
  {
   "cell_type": "code",
   "execution_count": 57,
   "metadata": {},
   "outputs": [],
   "source": [
    "data = result.json()\n",
    "# data.keys()\n",
    "data['rates']\n",
    "# print(type(data['rates']))\n",
    "# print(data['rates']['CAD'])\n",
    "\n",
    "for key, value in data['rates'].items():\n",
    "    exchange_rate.append(data['rates'][key])\n",
    "    currency.append(key)\n",
    "    # print(data['rates'][key])\n",
    "    # print(key)"
   ]
  },
  {
   "cell_type": "code",
   "execution_count": 63,
   "metadata": {},
   "outputs": [
    {
     "output_type": "stream",
     "name": "stdout",
     "text": [
      "('CAD', 1.5257)\n('HKD', 9.4793)\n('ISK', 153.3)\n('PHP', 59.492)\n('DKK', 7.4363)\n('HUF', 360.18)\n('CZK', 26.11)\n('AUD', 1.5317)\n('RON', 4.8748)\n('SEK', 10.0668)\n('IDR', 17352.1)\n('INR', 88.794)\n('BRL', 6.6663)\n('RUB', 90.3519)\n('HRK', 7.5895)\n('JPY', 129.73)\n('THB', 36.858)\n('CHF', 1.1076)\n('SGD', 1.612)\n('PLN', 4.5122)\n('BGN', 1.9558)\n('TRY', 8.8344)\n('CNY', 7.8898)\n('NOK', 10.2275)\n('NZD', 1.6409)\n('ZAR', 18.1101)\n('USD', 1.2225)\n('MXN', 25.3424)\n('ILS', 4.0086)\n('GBP', 0.86408)\n('KRW', 1359.14)\n('MYR', 4.9383)\n('CAD', 1.5257)\n('HKD', 9.4793)\n('ISK', 153.3)\n('PHP', 59.492)\n('DKK', 7.4363)\n('HUF', 360.18)\n('CZK', 26.11)\n('AUD', 1.5317)\n('RON', 4.8748)\n('SEK', 10.0668)\n('IDR', 17352.1)\n('INR', 88.794)\n('BRL', 6.6663)\n('RUB', 90.3519)\n('HRK', 7.5895)\n('JPY', 129.73)\n('THB', 36.858)\n('CHF', 1.1076)\n('SGD', 1.612)\n('PLN', 4.5122)\n('BGN', 1.9558)\n('TRY', 8.8344)\n('CNY', 7.8898)\n('NOK', 10.2275)\n('NZD', 1.6409)\n('ZAR', 18.1101)\n('USD', 1.2225)\n('MXN', 25.3424)\n('ILS', 4.0086)\n('GBP', 0.86408)\n('KRW', 1359.14)\n('MYR', 4.9383)\n"
     ]
    }
   ],
   "source": [
    "lst = zip(currency, exchange_rate)\n",
    "# print(*lst)\n",
    "for data in lst:\n",
    "    print(data)"
   ]
  }
 ]
}